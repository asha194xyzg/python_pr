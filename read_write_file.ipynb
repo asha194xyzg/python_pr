{
 "cells": [
  {
   "cell_type": "code",
   "execution_count": 14,
   "id": "c4c8e9db",
   "metadata": {},
   "outputs": [
    {
     "name": "stdout",
     "output_type": "stream",
     "text": [
      "{'Two': 2, 'roads': 2, 'diverged': 2, 'in': 3, 'a': 3, 'yellow': 1, 'wood,\\n': 1, '': 11, 'And': 6, 'sorry': 1, 'I': 8, 'could': 1, 'not': 1, 'travel': 1, 'both\\n': 1, 'be': 2, 'one': 3, 'traveler,': 1, 'long': 1, 'stood\\n': 1, 'looked': 1, 'down': 1, 'as': 5, 'far': 1, 'could\\n': 1, 'To': 1, 'where': 1, 'it': 2, 'bent': 1, 'the': 8, 'undergrowth;\\n': 1, '\\n': 3, 'Then': 1, 'took': 2, 'other,': 1, 'just': 1, 'fair,\\n': 1, 'having': 1, 'perhaps': 1, 'better': 1, 'claim,\\n': 1, 'Because': 1, 'was': 1, 'grassy': 1, 'and': 3, 'wanted': 1, 'wear;\\n': 1, 'Though': 1, 'for': 2, 'that': 3, 'passing': 1, 'there\\n': 1, 'Had': 1, 'worn': 1, 'them': 1, 'really': 1, 'about': 1, 'same,\\n': 1, 'both': 1, 'morning': 1, 'equally': 1, 'lay\\n': 1, 'In': 1, 'leaves': 1, 'no': 1, 'step': 1, 'had': 1, 'trodden': 1, 'black.\\n': 1, 'Oh,': 1, 'kept': 1, 'first': 1, 'another': 1, 'day!\\n': 1, 'Yet': 1, 'knowing': 1, 'how': 1, 'way': 1, 'leads': 1, 'on': 1, 'to': 1, 'way,\\n': 1, 'doubted': 1, 'if': 1, 'should': 1, 'ever': 1, 'come': 1, 'back.\\n': 1, 'shall': 1, 'telling': 1, 'this': 1, 'with': 1, 'sigh\\n': 1, 'Somewhere': 1, 'ages': 2, 'hence:\\n': 1, 'wood,': 1, 'I—\\n': 1, 'less': 1, 'traveled': 1, 'by,\\n': 1, 'has': 1, 'made': 1, 'all': 1, 'difference.': 1}\n",
      "[2, 2, 2, 3, 3, 1, 1, 11, 6, 1, 8, 1, 1, 1, 1, 2, 3, 1, 1, 1, 1, 1, 5, 1, 1, 1, 1, 2, 1, 8, 1, 3, 1, 2, 1, 1, 1, 1, 1, 1, 1, 1, 1, 1, 3, 1, 1, 1, 2, 3, 1, 1, 1, 1, 1, 1, 1, 1, 1, 1, 1, 1, 1, 1, 1, 1, 1, 1, 1, 1, 1, 1, 1, 1, 1, 1, 1, 1, 1, 1, 1, 1, 1, 1, 1, 1, 1, 1, 1, 1, 1, 1, 1, 1, 2, 1, 1, 1, 1, 1, 1, 1, 1, 1, 1]\n",
      "maximum count of any word is: 11\n",
      "maximum word is-:11\n"
     ]
    }
   ],
   "source": [
    "word_dict={}\n",
    "with open(\"poem.txt\",\"r\") as f:\n",
    "    for line in f:\n",
    "        words=line.split(\" \")\n",
    "        for word in words:\n",
    "            if word in word_dict:\n",
    "                word_dict[word]+=1\n",
    "            else:\n",
    "                word_dict[word]=1\n",
    "print(word_dict)\n",
    "word_list=list(word_dict.values())\n",
    "print(word_list)\n",
    "max_count=max(word_list)\n",
    "print(\"maximum count of any word is:\",max_count)\n",
    "for word,count in word_dict.items():\n",
    "    if count==max_count:\n",
    "        print(f\"maximum word is-{word}:{count}\")\n",
    "        \n"
   ]
  },
  {
   "cell_type": "code",
   "execution_count": 36,
   "id": "71d366cb",
   "metadata": {},
   "outputs": [
    {
     "data": {
      "application/vnd.microsoft.datawrangler.viewer.v0+json": {
       "columns": [
        {
         "name": "Company Name",
         "rawType": "object",
         "type": "string"
        },
        {
         "name": "Price",
         "rawType": "int64",
         "type": "integer"
        },
        {
         "name": "Earnings Per Share",
         "rawType": "int64",
         "type": "integer"
        },
        {
         "name": "Book value",
         "rawType": "int64",
         "type": "integer"
        }
       ],
       "ref": "62551442-8dd3-46ec-aa6f-d2f3a59c3644",
       "rows": [
        [
         "Reliance",
         "1467",
         "66",
         "653"
        ],
        [
         "Tata Steel",
         "394",
         "89",
         "572"
        ],
        [
         "Infosys",
         "650",
         "147",
         "147"
        ],
        [
         "Axis Bank",
         "739",
         "263",
         "263"
        ],
        [
         "Bajij Finance",
         "4044",
         "69",
         "341"
        ]
       ],
       "shape": {
        "columns": 3,
        "rows": 5
       }
      },
      "text/html": [
       "<div>\n",
       "<style scoped>\n",
       "    .dataframe tbody tr th:only-of-type {\n",
       "        vertical-align: middle;\n",
       "    }\n",
       "\n",
       "    .dataframe tbody tr th {\n",
       "        vertical-align: top;\n",
       "    }\n",
       "\n",
       "    .dataframe thead th {\n",
       "        text-align: right;\n",
       "    }\n",
       "</style>\n",
       "<table border=\"1\" class=\"dataframe\">\n",
       "  <thead>\n",
       "    <tr style=\"text-align: right;\">\n",
       "      <th></th>\n",
       "      <th>Price</th>\n",
       "      <th>Earnings Per Share</th>\n",
       "      <th>Book value</th>\n",
       "    </tr>\n",
       "    <tr>\n",
       "      <th>Company Name</th>\n",
       "      <th></th>\n",
       "      <th></th>\n",
       "      <th></th>\n",
       "    </tr>\n",
       "  </thead>\n",
       "  <tbody>\n",
       "    <tr>\n",
       "      <th>Reliance</th>\n",
       "      <td>1467</td>\n",
       "      <td>66</td>\n",
       "      <td>653</td>\n",
       "    </tr>\n",
       "    <tr>\n",
       "      <th>Tata Steel</th>\n",
       "      <td>394</td>\n",
       "      <td>89</td>\n",
       "      <td>572</td>\n",
       "    </tr>\n",
       "    <tr>\n",
       "      <th>Infosys</th>\n",
       "      <td>650</td>\n",
       "      <td>147</td>\n",
       "      <td>147</td>\n",
       "    </tr>\n",
       "    <tr>\n",
       "      <th>Axis Bank</th>\n",
       "      <td>739</td>\n",
       "      <td>263</td>\n",
       "      <td>263</td>\n",
       "    </tr>\n",
       "    <tr>\n",
       "      <th>Bajij Finance</th>\n",
       "      <td>4044</td>\n",
       "      <td>69</td>\n",
       "      <td>341</td>\n",
       "    </tr>\n",
       "  </tbody>\n",
       "</table>\n",
       "</div>"
      ],
      "text/plain": [
       "               Price  Earnings Per Share  Book value\n",
       "Company Name                                        \n",
       "Reliance        1467                  66         653\n",
       "Tata Steel       394                  89         572\n",
       "Infosys          650                 147         147\n",
       "Axis Bank        739                 263         263\n",
       "Bajij Finance   4044                  69         341"
      ]
     },
     "execution_count": 36,
     "metadata": {},
     "output_type": "execute_result"
    }
   ],
   "source": [
    "# Company Name\tPrice\tEarnings Per Share\tBook Value\n",
    "# Reliance\t1467\t66\t653\n",
    "# Tata Steel\t391\t89\t572\n",
    "# Infosys\t650\t35\t147\n",
    "# Axis Bank\t739\t19\t263\n",
    "# Bajaj Finance\t4044\t69\t341\n",
    "import pandas as pd \n",
    "d={\"Company Name\":[\"Reliance\",\"Tata Steel\",\"Infosys\",\"Axis Bank\",\"Bajij Finance\"],\n",
    "   \"Price\":[1467,394,650,739,4044],\n",
    "   \"Earnings Per Share\":[66,89,147,263,69],\n",
    "   \"Book value\":[653,572,147,263,341]}\n",
    "df=pd.DataFrame(d)\n",
    "df.to_csv(\"Stocks.csv\",index=False)\n",
    "df1=pd.read_csv(\"Stocks,csv\")\n",
    "df1=df1.reset_index(drop=True)\n",
    "df1.set_index(\"Company Name\",inplace=True)\n",
    "df1"
   ]
  },
  {
   "cell_type": "code",
   "execution_count": 35,
   "id": "8fabe4be",
   "metadata": {},
   "outputs": [
    {
     "data": {
      "application/vnd.microsoft.datawrangler.viewer.v0+json": {
       "columns": [
        {
         "name": "index",
         "rawType": "int64",
         "type": "integer"
        },
        {
         "name": "Company Name",
         "rawType": "object",
         "type": "string"
        },
        {
         "name": "PE Ratio",
         "rawType": "float64",
         "type": "float"
        },
        {
         "name": "PB Ratio",
         "rawType": "float64",
         "type": "float"
        }
       ],
       "ref": "38619b70-36b0-41b7-81d7-5f155f9da2c3",
       "rows": [
        [
         "0",
         "Reliance",
         "22.23",
         "2.25"
        ],
        [
         "1",
         "Tata Steel",
         "4.39",
         "0.68"
        ],
        [
         "2",
         "Infosys",
         "18.57",
         "4.42"
        ],
        [
         "3",
         "Axis Bank",
         "38.89",
         "2.81"
        ],
        [
         "4",
         "Bajaj Finance",
         "58.61",
         "11.8"
        ]
       ],
       "shape": {
        "columns": 3,
        "rows": 5
       }
      },
      "text/html": [
       "<div>\n",
       "<style scoped>\n",
       "    .dataframe tbody tr th:only-of-type {\n",
       "        vertical-align: middle;\n",
       "    }\n",
       "\n",
       "    .dataframe tbody tr th {\n",
       "        vertical-align: top;\n",
       "    }\n",
       "\n",
       "    .dataframe thead th {\n",
       "        text-align: right;\n",
       "    }\n",
       "</style>\n",
       "<table border=\"1\" class=\"dataframe\">\n",
       "  <thead>\n",
       "    <tr style=\"text-align: right;\">\n",
       "      <th></th>\n",
       "      <th>Company Name</th>\n",
       "      <th>PE Ratio</th>\n",
       "      <th>PB Ratio</th>\n",
       "    </tr>\n",
       "  </thead>\n",
       "  <tbody>\n",
       "    <tr>\n",
       "      <th>0</th>\n",
       "      <td>Reliance</td>\n",
       "      <td>22.23</td>\n",
       "      <td>2.25</td>\n",
       "    </tr>\n",
       "    <tr>\n",
       "      <th>1</th>\n",
       "      <td>Tata Steel</td>\n",
       "      <td>4.39</td>\n",
       "      <td>0.68</td>\n",
       "    </tr>\n",
       "    <tr>\n",
       "      <th>2</th>\n",
       "      <td>Infosys</td>\n",
       "      <td>18.57</td>\n",
       "      <td>4.42</td>\n",
       "    </tr>\n",
       "    <tr>\n",
       "      <th>3</th>\n",
       "      <td>Axis Bank</td>\n",
       "      <td>38.89</td>\n",
       "      <td>2.81</td>\n",
       "    </tr>\n",
       "    <tr>\n",
       "      <th>4</th>\n",
       "      <td>Bajaj Finance</td>\n",
       "      <td>58.61</td>\n",
       "      <td>11.80</td>\n",
       "    </tr>\n",
       "  </tbody>\n",
       "</table>\n",
       "</div>"
      ],
      "text/plain": [
       "    Company Name  PE Ratio  PB Ratio\n",
       "0       Reliance     22.23      2.25\n",
       "1     Tata Steel      4.39      0.68\n",
       "2        Infosys     18.57      4.42\n",
       "3      Axis Bank     38.89      2.81\n",
       "4  Bajaj Finance     58.61     11.80"
      ]
     },
     "execution_count": 35,
     "metadata": {},
     "output_type": "execute_result"
    }
   ],
   "source": [
    "# Company Name\tPE Ratio\tPB Ratio\n",
    "# Reliance\t22.23\t2.25\n",
    "# Tata Steel\t4.39\t0.68\n",
    "# Infosys\t18.57\t4.42\n",
    "# Axis Bank\t38.89\t2.81\n",
    "# Bajaj Finance\t58.61\t11.8\n",
    "d={\"Company Name\":[\"Reliance\",\"Tata Steel\",\"Infosys\",\"Axis Bank\",\"Bajaj Finance\"],\n",
    "    \"PE Ratio\":[22.23,4.39,18.57,38.89,58.61],\n",
    "    \"PB Ratio\":[2.25,.68,4.42,2.81,11.8]}\n",
    "df=pd.DataFrame(d)\n",
    "df.to_csv(\"output.csv\",index=False)\n",
    "df"
   ]
  },
  {
   "cell_type": "code",
   "execution_count": 43,
   "id": "fc0bafb7",
   "metadata": {},
   "outputs": [
    {
     "name": "stdout",
     "output_type": "stream",
     "text": [
      "['Reliance', '1467', '66', '653\\n']\n",
      "Reliance\n",
      "['Tata Steel', '394', '89', '572\\n']\n",
      "Tata Steel\n",
      "['Infosys', '650', '147', '147\\n']\n",
      "Infosys\n",
      "['Axis Bank', '739', '263', '263\\n']\n",
      "Axis Bank\n",
      "['Bajij Finance', '4044', '69', '341\\n']\n",
      "Bajij Finance\n"
     ]
    }
   ],
   "source": [
    "with open(\"Stocks.csv\", \"r\") as f, open(\"output.csv\", \"w\") as out:\n",
    "    out.write(\"Company Name,PE Ratio, PB Ratio\\n\")\n",
    "    next(f)  # This will skip first line in the file which is a header\n",
    "    for line in f:\n",
    "        tokens = line.split(\",\")\n",
    "        stock = tokens[0]\n",
    "        price = float(tokens[1])\n",
    "        eps = float(tokens[2])\n",
    "        book = float(tokens[3])\n",
    "        pe = round(price / eps, 2)\n",
    "        pb = round(price / book, 2)\n",
    "        out.write(f\"{stock},{pe},{pb}\\n\")\n",
    "        \n",
    "        print(tokens)\n",
    "        print(stock)"
   ]
  }
 ],
 "metadata": {
  "kernelspec": {
   "display_name": "Python 3",
   "language": "python",
   "name": "python3"
  },
  "language_info": {
   "codemirror_mode": {
    "name": "ipython",
    "version": 3
   },
   "file_extension": ".py",
   "mimetype": "text/x-python",
   "name": "python",
   "nbconvert_exporter": "python",
   "pygments_lexer": "ipython3",
   "version": "3.11.9"
  }
 },
 "nbformat": 4,
 "nbformat_minor": 5
}
