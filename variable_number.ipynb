{
 "cells": [
  {
   "cell_type": "code",
   "execution_count": 1,
   "id": "eba0911b",
   "metadata": {},
   "outputs": [
    {
     "ename": "SyntaxError",
     "evalue": "invalid syntax (1541063870.py, line 4)",
     "output_type": "error",
     "traceback": [
      "  \u001b[36mCell\u001b[39m\u001b[36m \u001b[39m\u001b[32mIn[1]\u001b[39m\u001b[32m, line 4\u001b[39m\n\u001b[31m    \u001b[39m\u001b[31mbreak=5\u001b[39m\n         ^\n\u001b[31mSyntaxError\u001b[39m\u001b[31m:\u001b[39m invalid syntax\n"
     ]
    }
   ],
   "source": [
    "# Create a variable called break and assign it a value 5. See what happens and find out the reason\n",
    "# behind the behavior that you see.\n",
    "\n",
    "break=5\n",
    "\n"
   ]
  },
  {
   "cell_type": "code",
   "execution_count": 2,
   "id": "1d689a40",
   "metadata": {},
   "outputs": [
    {
     "name": "stdout",
     "output_type": "stream",
     "text": [
      "current age: 23\n"
     ]
    }
   ],
   "source": [
    "\n",
    "# 2. Create two variables. One to store your birth year and another one to store current year.\n",
    "# Now calculate your age using these two variables\n",
    "birth_year=2002\n",
    "current_year=2025\n",
    "print(\"current age:\",current_year-birth_year)"
   ]
  },
  {
   "cell_type": "code",
   "execution_count": 10,
   "id": "e92d28a8",
   "metadata": {},
   "outputs": [
    {
     "name": "stdout",
     "output_type": "stream",
     "text": [
      "My name is Asha Alin Rahaman\n"
     ]
    }
   ],
   "source": [
    "\n",
    "# 3. Store your first, middle and last name in three different variables\n",
    "# and then print your full name using these variables\n",
    "a=\"Asha\"\n",
    "b=\"Alin\"\n",
    "c=\"Rahaman\"\n",
    "d=a+b+c\n",
    "print(f\"My name is {a} {b} {c}\")"
   ]
  },
  {
   "cell_type": "code",
   "execution_count": 11,
   "id": "a194f7a6",
   "metadata": {},
   "outputs": [
    {
     "name": "stdout",
     "output_type": "stream",
     "text": [
      "area of a football field: 4489.599999999999\n"
     ]
    }
   ],
   "source": [
    "# 1. You have a football field that is 92 meter long and 48.8 meter wide. Find out total\n",
    "#    area using python and print it\n",
    "long=92\n",
    "wide=48.8\n",
    "area=long*wide\n",
    "print(\"area of a football field:\",area)"
   ]
  },
  {
   "cell_type": "code",
   "execution_count": 13,
   "id": "786344f4",
   "metadata": {},
   "outputs": [
    {
     "name": "stdout",
     "output_type": "stream",
     "text": [
      "total_cost: 13.41\n",
      "back: 6.59\n"
     ]
    }
   ],
   "source": [
    "# 2. You bought 9 packets of potato chips from a store. Each packet costs 1.49 dollar\n",
    "#    and you gave shopkeeper 20 dollar.\n",
    "#    Find out using python, how many dollars is the shopkeeper going to give you back?\n",
    "Each_packet_costs=1.49\n",
    "total_cost=9*Each_packet_costs\n",
    "gave=20\n",
    "print(\"total_cost:\",total_cost)\n",
    "print(\"back:\",gave-total_cost)"
   ]
  },
  {
   "cell_type": "code",
   "execution_count": 14,
   "id": "70d68627",
   "metadata": {},
   "outputs": [
    {
     "name": "stdout",
     "output_type": "stream",
     "text": [
      "area of square:30.25,and cost of area:15125.0\n"
     ]
    }
   ],
   "source": [
    "# 3. You want to replace tiles in your bathroom which is exactly square and 5.5 feet\n",
    "#    is its length. If tiles cost 500 rs per square feet, how much will be the total\n",
    "#    cost to replace all tiles. Calculate and print the cost using python\n",
    "#    Hint: Use power operator (**) to find area of a square\n",
    "import math\n",
    "length=5.5\n",
    "square=length**2\n",
    "cost=500*square\n",
    "print(f\"area of square:{square},and cost of area:{cost}\")\n",
    "\n"
   ]
  },
  {
   "cell_type": "code",
   "execution_count": 16,
   "id": "eac228b8",
   "metadata": {},
   "outputs": [
    {
     "name": "stdout",
     "output_type": "stream",
     "text": [
      "10001\n"
     ]
    }
   ],
   "source": [
    "\n",
    "# 4. Print binary representation of number 17\n",
    "num=17\n",
    "print(format(num,\"b\"))"
   ]
  }
 ],
 "metadata": {
  "kernelspec": {
   "display_name": "Python 3",
   "language": "python",
   "name": "python3"
  },
  "language_info": {
   "codemirror_mode": {
    "name": "ipython",
    "version": 3
   },
   "file_extension": ".py",
   "mimetype": "text/x-python",
   "name": "python",
   "nbconvert_exporter": "python",
   "pygments_lexer": "ipython3",
   "version": "3.11.9"
  }
 },
 "nbformat": 4,
 "nbformat_minor": 5
}
