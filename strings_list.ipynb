{
 "cells": [
  {
   "cell_type": "code",
   "execution_count": 4,
   "id": "70675285",
   "metadata": {},
   "outputs": [
    {
     "name": "stdout",
     "output_type": "stream",
     "text": [
      "street,city,country: 12/3 uttara , dhaka , Bangladesh\n",
      "12/3 uttara-dhaka-Bangladesh\n",
      "12/3 uttara\n",
      "dhaka\n",
      "Bangladesh\n"
     ]
    }
   ],
   "source": [
    "# 1. Create 3 variables to store street, city and country, now create address variable to\n",
    "# store entire address. Use two ways of creating this variable, one using + operator and the other using f-string.\n",
    "# Now Print the address in such a way that the street, city and country prints in a separate line\n",
    "\n",
    "street=\"12/3 uttara\"\n",
    "city=\"dhaka\"\n",
    "country=\"Bangladesh\"\n",
    "address=street+\"\\n\"+city+\"\\n\"+country\n",
    "print(\"street,city,country:\",street,\",\",city,\",\",country)\n",
    "print(f\"{street}-{city}-{country}\")\n",
    "print(address)"
   ]
  },
  {
   "cell_type": "code",
   "execution_count": 8,
   "id": "26b13aae",
   "metadata": {},
   "outputs": [
    {
     "name": "stdout",
     "output_type": "stream",
     "text": [
      "revolves\n",
      "sun\n"
     ]
    }
   ],
   "source": [
    "# 2. Create a variable to store the string \"Earth revolves around the sun\"\n",
    "#     1. Print \"revolves\" using slice operator\n",
    "#     2. Print \"sun\" using negative index\n",
    "a=\"Earth revolves around the sun\"\n",
    "print(a[6:14])\n",
    "print(a[-3:])"
   ]
  },
  {
   "cell_type": "code",
   "execution_count": 12,
   "id": "1dbb3f0e",
   "metadata": {},
   "outputs": [
    {
     "name": "stdout",
     "output_type": "stream",
     "text": [
      "I eat 6 fruits and 13 vaggies daily\n"
     ]
    }
   ],
   "source": [
    "# 3. Create two variables to store how many fruits and vegetables you eat in a day.\n",
    "# Now Print \"I eat x veggies and y fruits daily\" where x and y presents vegetables and fruits that you eat everyday.\n",
    "# Use python f string for this.\n",
    "fruits=6\n",
    "vegetables=13\n",
    "print(f\"I eat {fruits} fruits and {vegetables} vaggies daily\")\n",
    "\n"
   ]
  },
  {
   "cell_type": "code",
   "execution_count": 15,
   "id": "1f7f8747",
   "metadata": {},
   "outputs": [
    {
     "name": "stdout",
     "output_type": "stream",
     "text": [
      "maine 10 samosa khaye\n"
     ]
    }
   ],
   "source": [
    "# 4. I have a string variable called s='maine 200 banana khaye'. This of course is a\n",
    "# wrong statement, the correct statement is 'maine 10 samosa khaye'.\n",
    "# Replace incorrect words in original strong with new ones and print the new string.\n",
    "# Also try to do this in one line\n",
    "s='maine 200 banana khaye'\n",
    "s=s.replace(\"200 banana\",\"10 samosa\")\n",
    "print(s)\n"
   ]
  },
  {
   "cell_type": "code",
   "execution_count": 29,
   "id": "2272d2f2",
   "metadata": {},
   "outputs": [
    {
     "name": "stdout",
     "output_type": "stream",
     "text": [
      "from feb to jan:  feb - jan : 150\n",
      "total expens of first 3 months: 7150\n"
     ]
    }
   ],
   "source": [
    "# 1. Let us say your expense for every month are listed below,\n",
    "# \t1. January -  2200\n",
    "#  \t2. February - 2350\n",
    "#     3. March - 2600\n",
    "#     4. April - 2130\n",
    "#     5. May - 2190\n",
    "#\n",
    "# Create a list to store these monthly expenses and using that find out,\n",
    "#\n",
    "# 1. In Feb, how many dollars you spent extra compare to January?\n",
    "# 2. Find out your total expense in first quarter (first three months) of the year.\n",
    "\n",
    "months=[\"jan\",\"feb\",\"mar\",\"apr\",\"may\"]\n",
    "expenses=[2200,2350,2600,2130,2190]\n",
    "\n",
    "print(\"from feb to jan: \",months[1],\"-\",months[0],\":\",expenses[1]-expenses[0])\n",
    "print(\"total expens of first 3 months:\",expenses[0]+expenses[1]+expenses[2])\n",
    "            "
   ]
  },
  {
   "cell_type": "code",
   "execution_count": 32,
   "id": "5632f232",
   "metadata": {},
   "outputs": [
    {
     "name": "stdout",
     "output_type": "stream",
     "text": [
      "True\n"
     ]
    }
   ],
   "source": [
    "for i in range(4):\n",
    "    if expenses[i]==2200:\n",
    "        print(\"True\")\n",
    "        break\n",
    "    else:\n",
    "        print(\"False\")"
   ]
  },
  {
   "cell_type": "code",
   "execution_count": 33,
   "id": "c5aac744",
   "metadata": {},
   "outputs": [
    {
     "name": "stdout",
     "output_type": "stream",
     "text": [
      "False\n"
     ]
    }
   ],
   "source": [
    "print(2000 in expenses)"
   ]
  },
  {
   "cell_type": "code",
   "execution_count": 37,
   "id": "c23947d3",
   "metadata": {},
   "outputs": [
    {
     "name": "stdout",
     "output_type": "stream",
     "text": [
      "['jan', 'feb', 'mar', 'apr', 'may', 'june'] : [2200, 2350, 2600, 2130, 2190, 1980]\n"
     ]
    }
   ],
   "source": [
    "# 4. June month just finished and your expense is 1980 dollar. Add this item to our monthly expense list\n",
    "months=[\"jan\",\"feb\",\"mar\",\"apr\",\"may\"]\n",
    "expenses=[2200,2350,2600,2130,2190]\n",
    "months.append(\"june\")\n",
    "expenses.append(1980)\n",
    "print(months,\":\",expenses)"
   ]
  },
  {
   "cell_type": "code",
   "execution_count": 42,
   "id": "c9cdd9ad",
   "metadata": {},
   "outputs": [
    {
     "name": "stdout",
     "output_type": "stream",
     "text": [
      "13450\n",
      "13250\n"
     ]
    }
   ],
   "source": [
    "# 5. You returned an item that you bought in a month of April and\n",
    "# got a refund of 200$. Make a correction to your monthly expense list\n",
    "# based on this\n",
    "total=0\n",
    "for i in expenses:\n",
    "    total+=i\n",
    "print(total)\n",
    "print(total-200)"
   ]
  },
  {
   "cell_type": "code",
   "execution_count": 73,
   "id": "7b34a2b0",
   "metadata": {},
   "outputs": [
    {
     "name": "stdout",
     "output_type": "stream",
     "text": [
      "5\n",
      "['spider man', 'thor', 'hulk', 'iron man', 'captain america', 'black panther']\n"
     ]
    }
   ],
   "source": [
    "heros=['spider man','thor','hulk','iron man','captain america']\n",
    "# 1. Length of the list\n",
    "# 2. Add 'black panther' at the end of this list\n",
    "# 3. You realize that you need to add 'black panther' after 'hulk',\n",
    "#    so remove it from the list first and then add it after 'hulk'\n",
    "# 4. Now you don't like thor and hulk because they get angry easily :)\n",
    "#    So you want to remove thor and hulk from list and replace them with doctor strange (because he is cool).\n",
    "#    Do that with one line of code.\n",
    "# 5. Sort the heros list in alphabetical order (Hint. Use dir() functions to list down all functions available in list)\n",
    "print(len(heros))\n",
    "heros.append(\"black panther\")\n",
    "print(heros)\n"
   ]
  },
  {
   "cell_type": "code",
   "execution_count": 74,
   "id": "18dc52f3",
   "metadata": {},
   "outputs": [
    {
     "name": "stdout",
     "output_type": "stream",
     "text": [
      "['spider man', 'thor', 'hulk', 'iron man', 'captain america']\n"
     ]
    }
   ],
   "source": [
    "heros.remove(\"black panther\")\n",
    "print(heros)"
   ]
  },
  {
   "cell_type": "code",
   "execution_count": 75,
   "id": "1e827015",
   "metadata": {},
   "outputs": [
    {
     "name": "stdout",
     "output_type": "stream",
     "text": [
      "['spider man', 'thor', 'hulk', 'black panther', 'iron man', 'captain america']\n"
     ]
    }
   ],
   "source": [
    "\n",
    "heros.insert(3,\"black panther\")\n",
    "print(heros)"
   ]
  },
  {
   "cell_type": "code",
   "execution_count": 76,
   "id": "1c5c23e3",
   "metadata": {},
   "outputs": [
    {
     "name": "stdout",
     "output_type": "stream",
     "text": [
      "['spider man', 'doctor strage', 'black panther', 'iron man', 'captain america']\n"
     ]
    }
   ],
   "source": [
    "# 4. Now you don't like thor and hulk because they get angry easily :)\n",
    "#    So you want to remove thor and hulk from list and replace them with doctor strange (because he is cool).\n",
    "#    Do that with one line of code.\n",
    "heros[1:3]=[\"doctor strage\"]\n",
    "print(heros)"
   ]
  },
  {
   "cell_type": "code",
   "execution_count": 78,
   "id": "091ada26",
   "metadata": {},
   "outputs": [
    {
     "data": {
      "text/plain": [
       "['black panther', 'captain america', 'doctor strage', 'iron man', 'spider man']"
      ]
     },
     "execution_count": 78,
     "metadata": {},
     "output_type": "execute_result"
    }
   ],
   "source": [
    "heros.sort()\n",
    "heros"
   ]
  }
 ],
 "metadata": {
  "kernelspec": {
   "display_name": "Python 3",
   "language": "python",
   "name": "python3"
  },
  "language_info": {
   "codemirror_mode": {
    "name": "ipython",
    "version": 3
   },
   "file_extension": ".py",
   "mimetype": "text/x-python",
   "name": "python",
   "nbconvert_exporter": "python",
   "pygments_lexer": "ipython3",
   "version": "3.11.9"
  }
 },
 "nbformat": 4,
 "nbformat_minor": 5
}
