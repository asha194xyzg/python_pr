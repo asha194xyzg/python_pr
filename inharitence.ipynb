{
 "cells": [
  {
   "cell_type": "code",
   "execution_count": 8,
   "id": "deae908a",
   "metadata": {},
   "outputs": [
    {
     "name": "stdout",
     "output_type": "stream",
     "text": [
      "Cat\n",
      "they both are loyal to there owner\n"
     ]
    }
   ],
   "source": [
    "# create inheritance using animal Dog relation.\n",
    "# for example, \n",
    "#     Animal and Dog both has same habitat so create a method for habitat \n",
    "# use super() constructor for calling parent constructor.\n",
    "# class Animal:\n",
    "#     #code\n",
    "\n",
    "# class Dog(Animal):\n",
    "#     super()-it refers Animal class,now you can call Animal's methods.\n",
    "class Animal:\n",
    "    def __init__(self,habitat):\n",
    "        self.habitat=habitat\n",
    "    def show(self):\n",
    "        print(self.habitat)\n",
    "    def habit(self):\n",
    "        print(\"they have some habit\")\n",
    "class dog(Animal):\n",
    "    def __init__(self):\n",
    "        super().__init__(\"Cat\")\n",
    "    def habit(self):\n",
    "        print(\"they both are loyal to there owner\")\n",
    "x=dog()\n",
    "x.show()\n",
    "x.habit()\n",
    "\n"
   ]
  },
  {
   "cell_type": "markdown",
   "id": "ccc4fcf9",
   "metadata": {},
   "source": [
    "Multiple inharitence"
   ]
  },
  {
   "cell_type": "code",
   "execution_count": 10,
   "id": "c1628346",
   "metadata": {},
   "outputs": [
    {
     "name": "stdout",
     "output_type": "stream",
     "text": [
      "programing\n",
      "cooking\n",
      "gamer\n"
     ]
    }
   ],
   "source": [
    "class Father:\n",
    "    def skills(self):\n",
    "        print(\"programing\")\n",
    "class Mother():\n",
    "    def skills(self):\n",
    "        print(\"cooking\")\n",
    "class child(Father,Mother):\n",
    "    def skills(self):\n",
    "        Father.skills(self)\n",
    "        Mother.skills(self)\n",
    "        print(\"gamer\")\n",
    "x=child()\n",
    "x.skills()"
   ]
  }
 ],
 "metadata": {
  "kernelspec": {
   "display_name": "Python 3",
   "language": "python",
   "name": "python3"
  },
  "language_info": {
   "codemirror_mode": {
    "name": "ipython",
    "version": 3
   },
   "file_extension": ".py",
   "mimetype": "text/x-python",
   "name": "python",
   "nbconvert_exporter": "python",
   "pygments_lexer": "ipython3",
   "version": "3.11.9"
  }
 },
 "nbformat": 4,
 "nbformat_minor": 5
}
