{
 "cells": [
  {
   "cell_type": "code",
   "execution_count": 12,
   "id": "9a24821a",
   "metadata": {},
   "outputs": [
    {
     "name": "stdout",
     "output_type": "stream",
     "text": [
      "id is:1 and name is :coder\n"
     ]
    }
   ],
   "source": [
    "# Create a sample class named Employee with two attributes id and name\n",
    "# employee :\n",
    "#     id\n",
    "#     name\n",
    "# object initializes id and name dynamically for every Employee object created.\n",
    "\n",
    "# emp = Employee(1, \"coder\")\n",
    "class employee:\n",
    "    def __init__(self,id,name):\n",
    "        self.id=id\n",
    "        self.name=name\n",
    "    def show(self):\n",
    "        print(f\"id is:{self.id} and name is :{self.name}\")\n",
    "emp=employee(1,\"coder\")\n",
    "emp.show()"
   ]
  },
  {
   "cell_type": "code",
   "execution_count": 14,
   "id": "83382e27",
   "metadata": {},
   "outputs": [],
   "source": [
    "del emp.id"
   ]
  },
  {
   "cell_type": "code",
   "execution_count": 15,
   "id": "e9e0f779",
   "metadata": {},
   "outputs": [
    {
     "name": "stdout",
     "output_type": "stream",
     "text": [
      "emp.id is not define\n"
     ]
    }
   ],
   "source": [
    "\n",
    "try:\n",
    "    print(emp.id)\n",
    "except AttributeError:\n",
    "    print(\"emp.id is not define\")"
   ]
  },
  {
   "cell_type": "code",
   "execution_count": 16,
   "id": "02d9641e",
   "metadata": {},
   "outputs": [],
   "source": [
    "# Use del property to first delete id attribute and then the entire object\n",
    "del emp"
   ]
  },
  {
   "cell_type": "code",
   "execution_count": 17,
   "id": "f920c2bb",
   "metadata": {},
   "outputs": [
    {
     "name": "stdout",
     "output_type": "stream",
     "text": [
      "emp is not define\n"
     ]
    }
   ],
   "source": [
    "try:\n",
    "    emp.show()\n",
    "except NameError:\n",
    "    print(\"emp is not define\")"
   ]
  }
 ],
 "metadata": {
  "kernelspec": {
   "display_name": "Python 3",
   "language": "python",
   "name": "python3"
  },
  "language_info": {
   "codemirror_mode": {
    "name": "ipython",
    "version": 3
   },
   "file_extension": ".py",
   "mimetype": "text/x-python",
   "name": "python",
   "nbconvert_exporter": "python",
   "pygments_lexer": "ipython3",
   "version": "3.11.9"
  }
 },
 "nbformat": 4,
 "nbformat_minor": 5
}
