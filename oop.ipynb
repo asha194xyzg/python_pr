{
 "cells": [
  {
   "cell_type": "code",
   "execution_count": 13,
   "id": "7cb93811",
   "metadata": {},
   "outputs": [
    {
     "name": "stdout",
     "output_type": "stream",
     "text": [
      "Toyota, model:Carmy color:Blue,speed:90\n"
     ]
    }
   ],
   "source": [
    "class car:\n",
    "    max_speed=120\n",
    "    def __init__(self,make,model,color,speed=10):\n",
    "        self.make=make\n",
    "        self.model=model\n",
    "        self.color=color\n",
    "        self.speed=speed\n",
    "    def accelerate(self,acceleration):\n",
    "        if self.speed + acceleration <= car.max_speed:\n",
    "            self.speed+=acceleration\n",
    "        else:\n",
    "            self.speed + acceleration ==car.max_speed\n",
    "    def grt_speed(self):\n",
    "        return self.speed\n",
    "    \n",
    "car1=car(\"Toyota\",\"Carmy\",\"Blue\")\n",
    "car1.accelerate(80)\n",
    "print(f\"{car1.make}, model:{car1.model} color:{car1.color},speed:{car1.grt_speed()}\")\n",
    "        "
   ]
  }
 ],
 "metadata": {
  "kernelspec": {
   "display_name": "Python 3",
   "language": "python",
   "name": "python3"
  },
  "language_info": {
   "codemirror_mode": {
    "name": "ipython",
    "version": 3
   },
   "file_extension": ".py",
   "mimetype": "text/x-python",
   "name": "python",
   "nbconvert_exporter": "python",
   "pygments_lexer": "ipython3",
   "version": "3.11.9"
  }
 },
 "nbformat": 4,
 "nbformat_minor": 5
}
