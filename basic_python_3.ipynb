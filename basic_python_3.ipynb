{
 "cells": [
  {
   "cell_type": "code",
   "execution_count": 4,
   "id": "b327fc85",
   "metadata": {},
   "outputs": [
    {
     "name": "stdout",
     "output_type": "stream",
     "text": [
      "area of triangle with base 10 and height 18 is 180\n"
     ]
    }
   ],
   "source": [
    "# Modify above function to take third parameter shape type. It can be either \"triangle\" or \"rectangle\". Based on shape type it will calculate area. Equation of rectangle's area is,\n",
    "# rectangle area=length*width\n",
    "# If no shape is supplied then it should take triangle as a default shape\n",
    "def shape_area(b,h,shape=\"rectangle\"):\n",
    "    if shape==\"rectangle\":\n",
    "        area=b*h\n",
    "    elif shape==\"triangle\":\n",
    "        area=.5*b*h\n",
    "    else:\n",
    "        print(\"error , shape not recognized\")\n",
    "    return area\n",
    "b=10\n",
    "h=18\n",
    "result=shape_area(b,h)\n",
    "print(\"area of triangle with base\",b,\"and height\",h,\"is\",result)\n",
    "\n",
    "\n",
    "\n"
   ]
  },
  {
   "cell_type": "markdown",
   "id": "d400ae4f",
   "metadata": {},
   "source": [
    "Write a function called print_pattern that takes integer number as an argument and prints following pattern if input number is 5,\n",
    "*\n",
    "**\n",
    "***"
   ]
  },
  {
   "cell_type": "code",
   "execution_count": 8,
   "id": "9e33c23e",
   "metadata": {},
   "outputs": [
    {
     "name": "stdout",
     "output_type": "stream",
     "text": [
      "*\n",
      "**\n",
      "***\n",
      "****\n",
      "*****\n"
     ]
    }
   ],
   "source": [
    "def print_pattern(n):\n",
    "    \n",
    "    for i in range(1,n+1):\n",
    "        shape=\"\"\n",
    "        for j in range(1,i+1):\n",
    "            shape+=\"*\"\n",
    "        print(shape)\n",
    "print_pattern(5)"
   ]
  },
  {
   "cell_type": "code",
   "execution_count": 2,
   "id": "83a86bdd",
   "metadata": {},
   "outputs": [
    {
     "name": "stdout",
     "output_type": "stream",
     "text": [
      "['__doc__', '__loader__', '__name__', '__package__', '__spec__', 'acos', 'acosh', 'asin', 'asinh', 'atan', 'atan2', 'atanh', 'cbrt', 'ceil', 'comb', 'copysign', 'cos', 'cosh', 'degrees', 'dist', 'e', 'erf', 'erfc', 'exp', 'exp2', 'expm1', 'fabs', 'factorial', 'floor', 'fmod', 'frexp', 'fsum', 'gamma', 'gcd', 'hypot', 'inf', 'isclose', 'isfinite', 'isinf', 'isnan', 'isqrt', 'lcm', 'ldexp', 'lgamma', 'log', 'log10', 'log1p', 'log2', 'modf', 'nan', 'nextafter', 'perm', 'pi', 'pow', 'prod', 'radians', 'remainder', 'sin', 'sinh', 'sqrt', 'tan', 'tanh', 'tau', 'trunc', 'ulp']\n"
     ]
    }
   ],
   "source": [
    "import math\n",
    "print(dir(math))"
   ]
  },
  {
   "cell_type": "code",
   "execution_count": 5,
   "id": "0e677238",
   "metadata": {},
   "outputs": [
    {
     "name": "stdout",
     "output_type": "stream",
     "text": [
      "4.0\n",
      "3.141592653589793\n"
     ]
    }
   ],
   "source": [
    "print(math.sqrt(16))  # Returns the square root of 16\n",
    "print(math.pi)"
   ]
  },
  {
   "cell_type": "code",
   "execution_count": 9,
   "id": "82227be1",
   "metadata": {},
   "outputs": [
    {
     "name": "stdout",
     "output_type": "stream",
     "text": [
      "     June 2025\n",
      "Mo Tu We Th Fr Sa Su\n",
      "                   1\n",
      " 2  3  4  5  6  7  8\n",
      " 9 10 11 12 13 14 15\n",
      "16 17 18 19 20 21 22\n",
      "23 24 25 26 27 28 29\n",
      "30\n",
      "\n"
     ]
    }
   ],
   "source": [
    "import calendar\n",
    "print(calendar.month(2025,6))  # Prints the calendar for January 2025)"
   ]
  },
  {
   "cell_type": "code",
   "execution_count": 10,
   "id": "965c2a16",
   "metadata": {},
   "outputs": [
    {
     "name": "stdout",
     "output_type": "stream",
     "text": [
      "False\n"
     ]
    }
   ],
   "source": [
    "print(calendar.isleap(2025))"
   ]
  },
  {
   "cell_type": "code",
   "execution_count": 3,
   "id": "cf4e86c7",
   "metadata": {},
   "outputs": [
    {
     "name": "stdout",
     "output_type": "stream",
     "text": [
      "country population dictionary is {'chaina': 143, 'india': 136, 'usa': 32, 'pakistan': 21}\n",
      "<class 'dict'>\n"
     ]
    }
   ],
   "source": [
    "# We have following information on countries and their population (population is in crores),\n",
    "\n",
    "# Country\tPopulation\n",
    "# China\t143\n",
    "# India\t136\n",
    "# USA\t32\n",
    "# Pakistan\t21\n",
    "# Using above create a dictionary of countries and its population\n",
    "# Write a program that asks user for three type of inputs,\n",
    "# print: if user enter print then it should print all countries with their population in this format,\n",
    "# china==>143\n",
    "# india==>136\n",
    "# usa==>32\n",
    "# pakistan==>21\n",
    "dict_population = {\n",
    "    \"chaina\": 143,\n",
    "    \"india\": 136,\n",
    "    \"usa\": 32,\n",
    "    \"pakistan\": 21\n",
    "}\n",
    "print(\"country population dictionary is\", dict_population)\n",
    "print(type(dict_population))"
   ]
  },
  {
   "cell_type": "code",
   "execution_count": 4,
   "id": "53b00933",
   "metadata": {},
   "outputs": [
    {
     "name": "stdout",
     "output_type": "stream",
     "text": [
      "chaina==>143\n",
      "india==>136\n",
      "usa==>32\n",
      "pakistan==>21\n"
     ]
    }
   ],
   "source": [
    "for country, population in dict_population.items():\n",
    "    print(f\"{country}==>{population}\")"
   ]
  },
  {
   "cell_type": "code",
   "execution_count": null,
   "id": "32b1989c",
   "metadata": {},
   "outputs": [],
   "source": []
  }
 ],
 "metadata": {
  "kernelspec": {
   "display_name": "Python 3",
   "language": "python",
   "name": "python3"
  },
  "language_info": {
   "codemirror_mode": {
    "name": "ipython",
    "version": 3
   },
   "file_extension": ".py",
   "mimetype": "text/x-python",
   "name": "python",
   "nbconvert_exporter": "python",
   "pygments_lexer": "ipython3",
   "version": "3.11.9"
  }
 },
 "nbformat": 4,
 "nbformat_minor": 5
}
